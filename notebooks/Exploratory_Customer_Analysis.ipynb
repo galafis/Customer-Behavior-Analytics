
{
 "cells": [
  {
   "cell_type": "markdown",
   "metadata": {},
   "source": [
    "# Exploratory Customer Analysis / Análise Exploratória de Clientes\n",
    "\n",
    "## Introdução\n",
    "**PT:** Este notebook fornece uma análise exploratória inicial dos dados de clientes, utilizando exemplos sintéticos inspirados no escopo do projeto.\n",
    "\n",
    "**EN:** This notebook provides an initial exploratory analysis of customer data, using synthetic examples inspired by the project's scope."
   ]
  },
  {
   "cell_type": "markdown",
   "metadata": {},
   "source": [
    "---\n",
    "## 1. Geração de dados sintéticos / Generating Synthetic Data"
   ]
  },
  {
   "cell_type": "code",
   "metadata": {},
   "execution_count": null,
   "outputs": [],
   "source": [
    "import pandas as pd\n",
    "import numpy as np\n",
    "import matplotlib.pyplot as plt\n",
    "import seaborn as sns\n",
    "\n",
    "np.random.seed(42)\n",
    "n = 1000\n",
    "df = pd.DataFrame({\n",
    "    'customer_id': [f'CUST_{i:05d}' for i in range(n)],\n",
    "    'age': np.random.randint(18, 80, n),\n",
    "    'gender': np.random.choice(['M', 'F'], n, p=[0.48, 0.52]),\n",
    "    'income': np.random.normal
