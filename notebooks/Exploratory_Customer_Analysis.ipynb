{
 "cells": [
  {
   "cell_type": "markdown",
   "metadata": {},
   "source": [
    "# Exploratory Customer Analysis / Análise Exploratória de Clientes\n",
    "\n",
    "## Introdução\n",
    "PT: Este notebook analisa dados de clientes. Por padrão, ele carrega o arquivo real `data/customer_data.csv`. Se esse arquivo não existir, cai para dados sintéticos e marca claramente todos os gráficos e saídas como 'Dados Sintéticos'.\n",
    "EN: This notebook analyzes customer data. By default, it loads the real `data/customer_data.csv`. If that file is missing, it falls back to synthetic data and clearly labels all plots/outputs as 'Synthetic Data'."
   ]
  },
  {
   "cell_type": "markdown",
   "metadata": {},
   "source": [
    "---\n",
    "## 1. Setup & Data Loading / Configuração & Carregamento de Dados\n",
    "PT: Execute esta seção primeiro. O notebook tenta carregar `data/customer_data.csv` com colunas esperadas: `customer_id, name, email, age, gender, purchase_amount, purchase_date, category, last_login, signup_date, country, city`. Se o CSV não for encontrado, o notebook gera dados sintéticos compatíveis com esse esquema.\n",
    "EN: Run this section first. The notebook attempts to load `data/customer_data.csv` with expected columns as listed above. If the CSV is not found, it generates schema-aligned synthetic data."
   ]
  },
  {
   "cell_type": "code",
   "metadata": {},
   "execution_count": null,
   "outputs": [],
   "source": [
    "import os\n",
    "import pandas as pd\n",
    "import numpy as np\n",
    "import matplotlib.pyplot as plt\n",
    "import seaborn as sns\n",
    "from datetime import datetime, timedelta\n",
    "\n",
    "CSV_PATH = os.path.join('data', 'customer_data.csv')\n",
    "EXPECTED_COLUMNS = [\n",
    "    'customer_id','name','email','age','gender','purchase_amount','purchase_date',\n",
    "    'category','last_login','signup_date','country','city'\n",
    "]\n",
    "\n",
    "def generate_synthetic(n=1000, seed=42):\n",
    "    rng = np.random.default_rng(seed)\n",
    "    base_date = datetime(2023,1,1)\n",
    "    genders = ['Male','Female','Other']\n",
    "    categories = ['Electronics','Clothing','Home','Beauty','Grocery','Sports']\n",
    "    countries = ['Brazil','USA','UK','Germany','Canada','Spain']\n",
    "    cities = ['Sao Paulo','Rio de Janeiro','New York','London','Berlin','Toronto','Madrid']\n",
    "    df_syn = pd.DataFrame({\n",
    "        'customer_id': [f'CUST_{i:06d}' for i in range(n)],\n",
    "        'name': [f'Customer {i}' for i in range(n)],\n",
    "        'email': [f'customer{i}@example.com' for i in range(n)],\n",
    "        'age': rng.integers(18, 80, n),\n",
    "        'gender': rng.choice(genders, n, p=[0.47,0.5,0.03]),\n",
    "        'purchase_amount': np.round(rng.gamma(2.0, 60.0, n), 2),\n",
    "        'purchase_date': [ (base_date + timedelta(days=int(x))).date().isoformat() for x in rng.integers(0, 365, n) ],\n",
    "        'category': rng.choice(categories, n),\n",
    "        'last_login': [ (datetime.now() - timedelta(days=int(x))).isoformat(timespec='seconds') for x in rng.integers(0,90,n) ],\n",
    "        'signup_date': [ (base_date - timedelta(days=int(x))).date().isoformat() for x in rng.integers(0, 365*3, n) ],\n",
    "        'country': rng.choice(countries, n),\n",
    "        'city': rng.choice(cities, n)\n",
    "    })\n",
    "    return df_syn\n",
    "\n",
    "source_label = None\n",
    "if os.path.exists(CSV_PATH):\n",
    "    df = pd.read_csv(CSV_PATH)\n",
    "    source_label = 'real'\n",
    "    missing_cols = [c for c in EXPECTED_COLUMNS if c not in df.columns]\n",
    "    if missing_cols:\n",
    "        print(f'AVISO/NOTICE: CSV encontrado, mas faltam colunas: {missing_cols}. Continuando somente com colunas disponíveis.')\n",
    "else:\n",
    "    print('CSV não encontrado. Gerando dados sintéticos compatíveis com o esquema esperado... / CSV not found. Generating schema-aligned synthetic data...')\n",
    "    df = generate_synthetic()\n",
    "    source_label = 'synthetic'\n",
    "\n",
    "# Type coercions and basic cleaning aligned to expected schema\n",
    "for col in ['age','purchase_amount']:\n",
    "    if col in df.columns:\n",
    "        df[col] = pd.to_numeric(df[col], errors='coerce')\n",
    "for col in ['purchase_date','signup_date','last_login']:\n",
    "    if col in df.columns:\n",
    "        df[col] = pd.to_datetime(df[col], errors='coerce')\n",
    "\n",
    "print(f'Fonte de dados / Data source: {source_label.upper()}')\n",
    "display(df.head())\n"
   ]
  },
  {
   "cell_type": "markdown",
   "metadata": {},
   "source": [
    "---\n",
    "## 2. Schema Check & Alignment / Verificação de Esquema\n",
    "PT: Esta célula valida e alinha o esquema com as colunas esperadas.\n",
    "EN: This cell validates and aligns the schema with the expected columns."
   ]
  },
  {
   "cell_type": "code",
   "metadata": {},
   "execution_count": null,
   "outputs": [],
   "source": [
    "present = list(df.columns)\n",
    "print('Colunas presentes / Present columns:', present)\n",
    "missing = [c for c in EXPECTED_COLUMNS if c not in present]\n",
    "extra = [c for c in present if c not in EXPECTED_COLUMNS]\n",
    "print('Faltando / Missing:', missing)\n",
    "print('Extras:', extra)\n",
    "\n",
    "# Optional: create convenience columns\n",
    "if 'purchase_date' in df.columns:\n",
    "    df['purchase_year'] = df['purchase_date'].dt.year\n",
    "    df['purchase_month'] = df['purchase_date'].dt.to_period('M').astype(str)\n",
    "\n",
    "display(df.sample(min(5, len(df))))\n"
   ]
  },
  {
   "cell_type": "markdown",
   "metadata": {},
   "source": [
    "---\n",
    "## 3. Exploratory Analysis / Análise Exploratória\n",
    "PT: As visualizações abaixo usam a fonte real quando disponível. Se os dados forem sintéticos, o título e legendas indicam 'Dados Sintéticos'.\n",
    "EN: The plots below use the real source when available. If synthetic, titles and captions indicate 'Synthetic Data'."
   ]
  },
  {
   "cell_type": "code",
   "metadata": {},
   "execution_count": null,
   "outputs": [],
   "source": [
    "sns.set(style='whitegrid')\n",
    "label_prefix = '' if source_label=='real' else '[Dados Sintéticos / Synthetic Data] ' \n",
    "\n",
    "fig, axes = plt.subplots(1, 2, figsize=(12,4))\n",
    "if 'age' in df.columns:\n",
    "    sns.histplot(df['age'].dropna(), bins=20, kde=True, ax=axes[0])\n",
    "    axes[0].set_title(label_prefix + 'Distribuição de Idade / Age Distribution')\n",
    "else:\n",
    "    axes[0].set_visible(False)\n",
    "\n",
    "if 'purchase_amount' in df.columns:\n",
    "    sns.histplot(df['purchase_amount'].dropna(), bins=20, kde=True, ax=axes[1])\n",
    "    axes[1].set_title(label_prefix + 'Distribuição de Valor de Compra / Purchase Amount Distribution')\n",
    "else:\n",
    "    axes[1].set_visible(False)\n",
    "plt.tight_layout(); plt.show()\n"
   ]
  },
  {
   "cell_type": "code",
   "metadata": {},
   "execution_count": null,
   "outputs": [],
   "source": [
    "plt.figure(figsize=(10,4))\n",
    "if {'category','purchase_amount'} <= set(df.columns):\n",
    "    order = df.groupby('category')['purchase_amount'].median().sort_values(ascending=False).index\n",
    "    sns.boxplot(data=df, x='category', y='purchase_amount', order=order)\n",
    "    plt.title(label_prefix + 'Valor de Compra por Categoria / Purchase Amount by Category')\n",
    "    plt.xticks(rotation=30, ha='right')\n",
    "else:\n",
    "    plt.text(0.5,0.5,'category/purchase_amount ausentes / missing', ha='center')\n",
    "plt.tight_layout(); plt.show()\n"
   ]
  },
  {
   "cell_type": "code",
   "metadata": {},
   "execution_count": null,
   "outputs": [],
   "source": [
    "if {'purchase_date','purchase_amount'} <= set(df.columns):\n",
    "    ts = (df.dropna(subset=['purchase_date'])\n",
    "            .set_index('purchase_date')\n",
    "            .resample('M')['purchase_amount'].sum())\n",
    "    ax = ts.plot(figsize=(10,4))\n",
    "    ax.set_title(label_prefix + 'Receita Mensal / Monthly Revenue')\n",
    "    plt.show()\n",
    "else:\n",
    "    print('Sem purchase_date/purchase_amount para série temporal.')\n"
   ]
  },
  {
   "cell_type": "markdown",
   "metadata": {},
   "source": [
    "---\n",
    "## 4. Mensagens e Instruções ao Usuário / User Guidance\n",
    "PT: Para usar dados reais, garanta que `data/customer_data.csv` esteja presente. O notebook informa a fonte carregada na primeira célula (REAL ou SINTÉTICO). Em modo sintético, todos os títulos exibem a marcação correspondente.\n",
    "EN: To use real data, ensure `data/customer_data.csv` is present. The notebook prints the loaded source (REAL or SYNTHETIC) in the first cell. In synthetic mode, all plot titles include the appropriate label."
   ]
  },
  {
   "cell_type": "markdown",
   "metadata": {},
   "source": [
    "---\n",
    "## 5. Conclusão / Conclusion\n",
    "PT: As análises e visualizações estão alinhadas ao esquema do CSV real. Em falta, dados sintéticos compatíveis são usados e claramente identificados.\n",
    "EN: Analyses and visuals align to the real CSV schema; when missing, compatible synthetic data is used and clearly identified."
   ]
  }
 ],
 "metadata": {
  "kernelspec": {
   "display_name": "Python 3",
   "language": "python",
   "name": "python3"
  },
  "language_info": {
   "name": "python",
   "version": ""
  }
 },
 "nbformat": 4,
 "nbformat_minor": 5
}
