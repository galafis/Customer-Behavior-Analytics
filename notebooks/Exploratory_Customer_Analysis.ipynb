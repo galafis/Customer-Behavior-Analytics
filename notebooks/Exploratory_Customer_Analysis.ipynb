{
 "cells": [
  {
   "cell_type": "markdown",
   "metadata": {},
   "source": [
    "# Exploratory Customer Analysis / Análise Exploratória de Clientes\n",
    "\n",
    "## Introdução\n",
    "**PT:** Este notebook fornece uma análise exploratória inicial dos dados de clientes, utilizando exemplos sintéticos inspirados no escopo do projeto.\n",
    "\n",
    "**EN:** This notebook provides an initial exploratory analysis of customer data, using synthetic examples inspired by the project's scope."
   ]
  },
  {
   "cell_type": "markdown",
   "metadata": {},
   "source": [
    "---\n",
    "## 1. Geração de dados sintéticos / Generating Synthetic Data"
   ]
  },
  {
   "cell_type": "code",
   "metadata": {},
   "execution_count": null,
   "outputs": [],
   "source": [
    "import pandas as pd\n",
    "import numpy as np\n",
    "import matplotlib.pyplot as plt\n",
    "import seaborn as sns\n",
    "\n",
    "np.random.seed(42)\n",
    "n = 1000\n",
    "df = pd.DataFrame({\n",
    "    'customer_id': [f'CUST_{i:05d}' for i in range(n)],\n",
    "    'age': np.random.randint(18, 80, n),\n",
    "    'gender': np.random.choice(['M', 'F'], n, p=[0.48, 0.52]),\n",
    "    'income': np.random.normal(50000, 15000, n).clip(20000, 120000),\n",
    "    'frequency': np.random.poisson(7, n),\n",
    "    'recency': np.random.exponential(30, n).astype(int),\n",
    "    'total_spent': np.random.gamma(2, 3000, n)\n",
    "})\n",
    "df['age'] = df['age'].clip(18, 80)\n",
    "df.head()"
   ]
  },
  {
   "cell_type": "markdown",
   "metadata": {},
   "source": [
    "---\n",
    "## 2. Estatísticas Descritivas / Descriptive Statistics"
   ]
  },
  {
   "cell_type": "code",
   "metadata": {},
   "execution_count": null,
   "outputs": [],
   "source": [
    "df.describe()"
   ]
  },
  {
   "cell_type": "markdown",
   "metadata": {},
   "source": [
    "---\n",
    "## 3. Visualização de Distribuições / Distribution Visualizations"
   ]
  },
  {
   "cell_type": "code",
   "metadata": {},
   "execution_count": null,
   "outputs": [],
   "source": [
    "fig, axes = plt.subplots(1, 2, figsize=(12, 5))\n",
    "sns.histplot(df['age'], bins=20, kde=True, ax=axes[0])\n",
    "axes[0].set_title('Distribuição de Idade / Age Distribution')\n",
    "sns.histplot(df['income'], bins=20, kde=True, ax=axes[1])\n",
    "axes[1].set_title('Distribuição de Renda / Income Distribution')\n",
    "plt.tight_layout()\n",
    "plt.show()"
   ]
  },
  {
   "cell_type": "markdown",
   "metadata": {},
   "source": [
    "---\n",
    "## 4. Comentários Didáticos / Didactic Comments\n",
    "\n",
    "**PT:** As distribuições mostram característica realista de clientes. Recomenda-se evoluir com análise de segmentação e churn.\n",
    "\n",
    "**EN:** The distributions show realistic customer features. Next steps include segmentation and churn analysis."
   ]
  },
  {
   "cell_type": "markdown",
   "metadata": {},
   "source": [
    "---\n",
    "## 5. Conclusão / Conclusion\n",
    "\n",
    "**PT:** Este caderno exemplifica o padrão mínimo exploratório do projeto proposto.\n",
    "\n",
    "**EN:** This notebook exemplifies the standard exploratory baseline for the proposed project."
   ]
  }
 ],
 "metadata": {
  "kernelspec": {
   "display_name": "Python 3",
   "language": "python",
   "name": "python3"
  },
  "language_info": {
   "name": "python",
   "version": ""
  }
 },
 "nbformat": 4,
 "nbformat_minor": 5
}
